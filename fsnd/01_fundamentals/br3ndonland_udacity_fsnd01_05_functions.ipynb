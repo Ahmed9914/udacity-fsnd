{
 "cells": [
  {
   "cell_type": "markdown",
   "metadata": {},
   "source": [
    "Udacity full-stack web developer nanodegree\n",
    "========================\n",
    "\n",
    "01. Programming fundamentals and the web\n",
    "========================\n",
    "\n",
    "---\n",
    "\n",
    "\n",
    "# Table of contents\n",
    "\n",
    "[TOC]\n",
    "\n",
    "---\n",
    "\n",
    "# Lesson 05: Use functions\n"
   ]
  },
  {
   "cell_type": "markdown",
   "metadata": {},
   "source": [
    "\n",
    "## 01. Course Map\n",
    "\n",
    "*note that Kunal refers to this lesson in the video as lesson 1, but it is listed in the Udacity course navigation as lesson 5 because there was additional intro material before it.*\n",
    "\n",
    "Lesson 0. Introduction\n",
    "\n",
    "Lesson 1. Functions\n",
    "\n",
    "Lesson 2. Using Classes\n",
    "\n",
    "Lesson 3. Making Classes\n"
   ]
  },
  {
   "cell_type": "markdown",
   "metadata": {},
   "source": [
    "## 02. Take a Break (story)\n",
    "\n",
    "We want to remind people to take breaks while they are spending long hours on the computer!\n",
    "\n",
    "**This take a break project is a nice example of how to build a computer program by breaking the objective down into a series of actionable steps, then testing each step.**\n",
    "\n",
    "## 03. Take a Break (output)\n",
    "    \n",
    "    \n",
    "## 04. How would you do this?\n",
    "\n",
    "If you were writing the \"Take a Break\" program, what steps would you take to get to the output?\n",
    "\n",
    "1. Track the time\n",
    "    * import a module that follows the computer's clock\n",
    "2. After two hours: open browser to play song\n",
    "    * write a command to open browser, and include link to YouTube video\n",
    "3. Repeat in two more hours\n",
    "\n",
    "## 05. Planning the break\n",
    "\n",
    "Post answer on [discussion forum](https://discussions.udacity.com/).\n",
    "\n",
    "<p>Welcome to Udacity Discussion Forum — <strong>thanks for contributing!</strong></p>\n",
    "<ul>\n",
    "<li>\n",
    "<p>Does your reply improve the conversation in some way?</p>\n",
    "</li>\n",
    "<li>\n",
    "<p>Be kind to your fellow community members.</p>\n",
    "</li>\n",
    "<li>\n",
    "<p>Constructive criticism is welcome, but criticize <em>ideas</em>, not people.</p>\n",
    "</li>\n",
    "</ul>\n",
    "<p>For more, <a href=\"https://discussions.udacity.com/guidelines\">see our community guidelines</a>. This panel will only appear for your first 2 posts.</p>\n",
    "\n",
    "## 06. one way of doing this\n",
    "\n",
    "Create a loop to repeat three times:\n",
    "* Wait two hours\n",
    "* Open browser\n",
    "\n",
    "## 07. Launching python\n",
    "\n",
    "Already rocking jupyter\n",
    "\n",
    "## 08. Quiz: what is the error?\n",
    "\n",
    "We will use the [`webbrowser` function](https://docs.python.org/3/library/webbrowser.html?highlight=webbrowser#module-webbrowser) in the standard library.\n",
    "\n",
    "I decided to play the song \"Hours\" by Tycho. Very appropriate for this example.\n",
    "\n",
    "*I tried the code before playing the instructional video:*\n",
    "\n",
    "got it to work on the command line first:\n",
    "\n",
    "```bash\n",
    "brendon-smiths-macbook:~ brendonsmith$ python -m webbrowser -t \"https://www.youtube.com/watch?v=IuGO6WHcruU\"\n",
    "```\n",
    "    "
   ]
  },
  {
   "cell_type": "code",
   "execution_count": 1,
   "metadata": {},
   "outputs": [
    {
     "data": {
      "text/plain": [
       "True"
      ]
     },
     "execution_count": 1,
     "metadata": {},
     "output_type": "execute_result"
    }
   ],
   "source": [
    "# have to import the webbrowser module for jupyter\n",
    "import webbrowser\n",
    "webbrowser.open_new_tab(\"https://www.youtube.com/watch?v=IuGO6WHcruU\")"
   ]
  },
  {
   "cell_type": "markdown",
   "metadata": {},
   "source": [
    "## 09. Squashing the bug\n",
    "\n",
    "Kunal gets the same error in his instructional video. Already figured it out!"
   ]
  },
  {
   "cell_type": "markdown",
   "metadata": {},
   "source": [
    "## 10. Making the program wait\n",
    "\n",
    "```python\n",
    "import time\n",
    "import webbrowser\n",
    "time.sleep(7) \n",
    "# try 7 seconds. \n",
    "# For two hours, time.sleep(2*60*60)\n",
    "webbrowser.open_new_tab(\"https://www.youtube.com/watch?v=IuGO6WHcruU\")\n",
    "```\n",
    "\n",
    "See [Tutorialspoint](http://www.tutorialspoint.com/python/time_sleep.htm) for more."
   ]
  },
  {
   "cell_type": "markdown",
   "metadata": {},
   "source": [
    "## Break timer full code and programming milestone\n",
    "## 11. Quiz: adding a loop\n",
    "\n",
    "I tried this before watching the video. I don't like the suggestion of `while` loops here. It would make more sense to me syntactically to use a `for` loop. \n",
    "\n",
    "See [this Stack Overflow discussion](https://stackoverflow.com/questions/17647907/for-or-while-loop-to-do-something-n-times) for a comparison of `for` and `while` loops. \n",
    "\n",
    "I got the `for` loop version to run correctly on my first try:\n",
    "\n",
    "```python\n",
    "import time\n",
    "import webbrowser\n",
    "\n",
    "for i in range(3):\n",
    "    time.sleep(7) # try 7 seconds. For 2 hours, use 2*60*60.\n",
    "    webbrowser.open_new_tab(\"https://www.youtube.com/watch?v=IuGO6WHcruU\")\n",
    "```\n",
    "\n",
    "When formatting as a `while` loop, I initially got stuck in an infinite loop, which I stopped by pressing `Esc` to enter command mode, and then `i,i` to interrupt the kernel. In order to run this as a `while` loop, you have to create a superfluous reference of integers, then add 1 to the count each time.\n",
    "\n",
    "Breaks have to be counted each time, as Kunal did in his example. He requires three additional lines of code to perform the same function:\n",
    "\n",
    "```python\n",
    "import time\n",
    "import webbrowser\n",
    "\n",
    "total_breaks = 3\n",
    "break_count = 0 # starting point \n",
    "\n",
    "while(break_count < total_breaks):\n",
    "    time.sleep(7) # try 7 seconds\n",
    "    webbrowser.open_new_tab(\"https://www.youtube.com/watch?v=IuGO6WHcruU\")\n",
    "    break_count = break_count + 1 # add 1 each time, to stop at 3 and avoid infinite loop\n",
    "```\n",
    "\n",
    "**I am already learning to think in the most efficient way possible in Python! I'm becoming a programmer!**\n",
    "\n",
    "The current time on the instructor's computer is Wednesday February 12 16:40:40 2014. I picked up here on Wednesday at 16:20!\n",
    "\n",
    "He also added a timestamp:\n",
    "\n",
    "```python\n",
    "print('This program started on ' + time.ctime())\n",
    "```\n"
   ]
  },
  {
   "cell_type": "code",
   "execution_count": 1,
   "metadata": {
    "collapsed": true
   },
   "outputs": [],
   "source": [
    "# break timer\n",
    "import time\n",
    "import webbrowser\n",
    "\n",
    "\n",
    "for i in range(3):\n",
    "    time.sleep(7) # try 7 seconds. For 2 hours, use 2*60*60.\n",
    "    webbrowser.open_new_tab(\"https://www.youtube.com/watch?v=IuGO6WHcruU\")\n",
    "    "
   ]
  },
  {
   "cell_type": "markdown",
   "metadata": {},
   "source": [
    "## 12. Making the Program Wait Longer\n",
    "\n",
    "Already figured this out. the `time.sleep()` function takes in seconds, so `time.sleep(2*60*60)`."
   ]
  },
  {
   "cell_type": "markdown",
   "metadata": {},
   "source": [
    "## 13. Where Does Webbrowser Come From?\n",
    "\n",
    "`webbrowser` and `time` are part of the Python Standard Library. We don't see exactly how they communicate with the operating system to function. This hiding of detail is called **abstraction.** I am familiar with abstraction from David Evans' [cs4414: Operating Systems](http://rust-class.org/) class.\n",
    "\n",
    "## 14. Reading Webbrowser Documentation\n",
    "\n",
    "## 15. Take a Break Mini-Project\n",
    "\n",
    "It was 7:30 am when I was doing this, so I just checked the box and moved on.\n",
    "\n",
    "---"
   ]
  },
  {
   "cell_type": "markdown",
   "metadata": {},
   "source": [
    "## 18. Secret Message (story)\n",
    "\n",
    "We have to rename files on the computer. The files have location names and numbers in them. The numbers are either at the beginnning or end of the file name, and contain 1-3 digits.\n",
    "\n",
    "They spelled \"Edinbrough\" incorrectly.\n",
    "\n",
    "## 19. Secret Message (output)\n",
    "\n",
    "The output is file names without numbers in them.\n",
    "\n",
    "## 20. Quiz: Planning a Secret Message\n",
    "\n",
    "What steps would you take to remove numbers from a bunch of file names on your computer?\n",
    "\n",
    "* This is a standard task that they mention in the Python documentation tutorial under \"[1. Whetting Your Appetite](https://docs.python.org/3/tutorial/appetite.html?highlight=rename).\" Just looking at the documentation and thinking about it:\n",
    "* Define a function:\n",
    "    * Point Python to the directory where the files are located.\n",
    "    * Ask Python to remove numbers from the name string of each file, in the `range(9)`. This could maybe be done with a clear() or del() command. We could potentially use the [`os.path()`](https://docs.python.org/3/tutorial/stdlib2.html?highlight=rename#templating), [`path.rename()`](https://docs.python.org/3/library/pathlib.html?highlight=rename#pathlib.Path.rename), or [`os.rename()`](https://docs.python.org/3/library/os.html?highlight=rename#os.rename) functions.\n",
    "* Loop the function for each file in the directory.\n",
    "\n",
    "We had to post our responses in the forum, but the link was old and the thread was locked. I found an open thread, with the title [Planning a secret messge](https://discussions.udacity.com/t/planning-a-secret-messge) (yes, message was spelled incorrectly).\n",
    "\n",
    "\n",
    "Kunal's steps:\n",
    "\n",
    "1. Get file names\n",
    "2. `For` each file, rename by removing numbers\n",
    "\n",
    "\n",
    "## 21. Opening a File\n",
    "\n",
    "Resources:\n",
    "> <div class=\"ureact-markdown--markdown--3IhZa ureact-markdown \"><p>1) <a href=\"https://s3.amazonaws.com/udacity-hosted-downloads/ud036/prank.zip\" target=\"_blank\">Zip File with 50 photos</a><br>\n",
    "&nbsp;&nbsp;&nbsp;&nbsp;(after downloading, unzip this file to see all the photos)</p>\n",
    "<p>2) <a href=\"http://stackoverflow.com/questions/3207219/how-to-list-all-files-of-a-directory-in-python\" target=\"_blank\">Stack Overflow Help Page</a><br>\n",
    "&nbsp;&nbsp;&nbsp;&nbsp;(how to list all files in a given folder)</p>\n",
    "<p>3) <a href=\"https://s3.amazonaws.com/udacity-hosted-downloads/ud036/How+to+get+the+address+of+a+folder+on+a+Mac.pdf\" target=\"_blank\">How to get the path of a folder on a Mac</a><br>\n",
    "&nbsp;&nbsp;&nbsp;&nbsp;(these instructions will help you find the path of the folder which contains photos)</p>\n",
    "</div>\n",
    "\n",
    "He googled \"find file names in a folder in Python\" and clicked the Stack Overflow page. They reference the `os.listdir` function.\n",
    "\n",
    "```python\n",
    "file_list = os.listdir('/Users/brendonsmith/Dropbox/Computing/Udacity/fsnd/01_fundamentals/prank')\n",
    "print(file_list)\n",
    "```"
   ]
  },
  {
   "cell_type": "markdown",
   "metadata": {},
   "source": [
    "We started constructing our function:\n",
    "\n",
    "```python\n",
    "import os\n",
    "\n",
    "def rename_files():\n",
    "    # (1) get file names from a folder\n",
    "    file_list = os.listdir('/Users/brendonsmith/Dropbox/Computing/Udacity/fsnd/01_fundamentals/prank')\n",
    "    print(file_list)\n",
    "    # (2) for each file, rename filename\n",
    "    \n",
    "rename_files()\n",
    "```"
   ]
  },
  {
   "cell_type": "markdown",
   "metadata": {},
   "source": [
    "## 22. Quiz: Changing Filenames\n",
    "\n",
    "Kunal suggested searching the Python documentation for the `os` module. Already [there](https://docs.python.org/3/library/os.html?highlight=rename#os.rename)!\n",
    "\n",
    "I easily got the correct answer to this quiz.\n",
    "\n",
    "> Great Job\n",
    ">\n",
    "> Yes! Reading documentation is a key skill and takes effort to acquire. You are beginning to practice a key attribute of an expert programmer.\n"
   ]
  },
  {
   "cell_type": "markdown",
   "metadata": {},
   "source": [
    "## 23. Checking os Documentation\n",
    "\n",
    "The resources section below recommends using the `<string>.translate()` function. I anticipated this need, because we are removing numbers from the file name, but the numbers are embedded within the string of the file name. We need a function to parse the file name.\n",
    "\n",
    "Kunal starts typing the `for` loop, then goes to the shell window to test out some commands. \n",
    "\n",
    "Try it in the shell first with a string to imitate the file name:\n",
    "\n",
    "```bash\n",
    "python\n",
    ">>> file_name = '48athens.jpg'\n",
    ">>> translation_table = str.maketrans('0123456789', '          ', '0123456789')\n",
    ">>> file_name.translate(translation_table)\n",
    "'athens.jpg'\n",
    "```\n",
    "\n",
    "Python 3 requires a separate step for construction of the translation table (see Resources section below). The second argument is just an empty string of ten spaces (length equal to the numbers string). I initially tried this with the `range(9)` function to be more concise, but didn't get the correct result.\n",
    "\n",
    "This works regardless of the position of the numbers in the file name.\n",
    "\n",
    "Note that we will have to define the variable `file_name` for the list of files in the folder.\n",
    "\n",
    "\n",
    "\n",
    "\n",
    "Resources:\n",
    "> <div class=\"ltr\"><div class=\"ureact-markdown--markdown--3IhZa ureact-markdown \"><p><b>Helpful Links</b><br>\n",
    "1) <a href=\"http://www.tutorialspoint.com/python/python_for_loop.htm\" target=\"_blank\">How to use for loops in Python</a><br>\n",
    "2) <a href=\"http://www.tutorialspoint.com/python/string_translate.htm\" target=\"_blank\">How to use the translate function in Python</a></p>\n",
    "<p><b> More information on  the string function translate</b><br>\n",
    "Let us understand the documentation for <code>string.translate</code></p>\n",
    "<p>In the python documentation for string translate, you will see </p>\n",
    "<p><code>string.translate(s, table[, deletechars])</code></p>\n",
    "<p>Notice that there are three argments (or inputs to the\n",
    "function), <em>s</em>, <em>table</em>, and the optional <em>deletechars</em> (we know it's\n",
    "optional because it's in square brackets). But only two are shown in\n",
    "the video: <em>table</em> and <em>deletechars</em>. Don't worry, this will be\n",
    "explained later. For now, learn this little trick, doing this:</p>\n",
    "<p><code>import string</code></p>\n",
    "<p><code>string.translate(file_name,None,'0123456789')</code></p>\n",
    "<p>is equivalent to doing this (putting <code>file_name</code> out front, in place of the <code>string</code> module):</p>\n",
    "<p><code>file_name.translate(None,'0123456789')</code></p>\n",
    "<p><strong>Python 3 Note</strong></p>\n",
    "<p>String translation changed in the transition from Python 2.7 to Python 3. The translation table is now separate from the <code>translate()</code> function itself. To do this kind of translation in Python 3, you will need to create a translation table, and pass that into the <code>translate()</code> function:</p>\n",
    "<pre><code class=\"lang-python\">translation_table = str.maketrans(<span class=\"hljs-string\">\"0123456789\"</span>, <span class=\"hljs-string\">\"          \"</span>, <span class=\"hljs-string\">\"0123456789\"</span>)\n",
    "filename.translate(translation_table)\n",
    "</code></pre>\n",
    "<p>You can read more about these changes <a target=\"_blank\" href=\"https://docs.python.org/3/library/stdtypes.html?highlight=maketrans#str.translate\">in the documentation</a>.</p>\n",
    "</div></div>\n"
   ]
  },
  {
   "cell_type": "markdown",
   "metadata": {},
   "source": [
    "## 24. Renaming Files\n",
    "\n",
    "We can run the `<string>.translate()` function within the `os.rename` function:\n",
    "\n",
    "```python\n",
    "import os\n",
    "import string\n",
    "\n",
    "def rename_files():\n",
    "    # (1) get file names from a folder\n",
    "    file_list = os.listdir('/Users/brendonsmith/Dropbox/Computing/Udacity/fsnd/01_fundamentals/prank')\n",
    "    print(file_list)\n",
    "    \n",
    "    # (2) for each file, rename filename\n",
    "    ## first, ensure correct working directory\n",
    "    os.chdir('/Users/brendonsmith/Dropbox/Computing/Udacity/fsnd/01_fundamentals/prank')\n",
    "    for file_name in file_list:\n",
    "        # construct translation table for the translate function\n",
    "        translation_table = str.maketrans('0123456789', '          ', '0123456789')\n",
    "        # rename file with new name\n",
    "        os.rename(file_name, file_name.translate(translation_table))\n",
    "    \n",
    "rename_files()\n",
    "```"
   ]
  },
  {
   "cell_type": "markdown",
   "metadata": {},
   "source": [
    "## 25. Quiz: What Is the Error?\n",
    "\n",
    "I thought the error would be that we have not yet defined the variable `file_name` for the list of files in the folder. \n",
    "\n",
    "## 26. Quiz: Squashing the Bug \n",
    "\n",
    "The error was actually that he was in the directory above the desired folder. He wrote some code within the `rename_files()` function to check and save the current directory:\n",
    "\n",
    "```python\n",
    "saved_path = os.getcwd()\n",
    "print('Current working directory is ' + saved_path)\n",
    "```\n",
    "Then, at the end of the `rename_files()` function, he returned to the directory:\n",
    "```python\n",
    "os.chdir(saved_path)\n",
    "```\n",
    "\n",
    "\n",
    "***I didn't understand his approach. Why is it necessary to create a variable for the directory, and return to it at the end of the function?* -> it's not necessary. `os.chdir()` can be used to specify the correct directory before the loop to rename files.**\n",
    "\n",
    "***Why do we need to repeat the number string in the str.maketrans() function?* -> If you delete the second number string, there will be spaces in the file name. If you delete the string of spaces, and leave the two number strings, nothing happens.** \n",
    "\n",
    "What is `file_name`? -> It's possible that the string function actually has `file_name` pre-defined."
   ]
  },
  {
   "cell_type": "markdown",
   "metadata": {},
   "source": [
    "## Secret message example full code"
   ]
  },
  {
   "cell_type": "code",
   "execution_count": 1,
   "metadata": {},
   "outputs": [
    {
     "name": "stdout",
     "output_type": "stream",
     "text": [
      "['.DS_Store', '16los angeles.jpg', '17cairo.jpg', '22rochester.jpg', '25madrid.jpg', '28houston.jpg', '29bristol.jpg', '29buenos aires.jpg', '2chennai.jpg', '2hyderabad.jpg', '35miami.jpg', '36sydney.jpg', '37athens.jpg', '41seoul.jpg', '45austin.jpg', '45ithaca.jpg', '46colombo.jpg', '47london.jpg', '47sao paulo.jpg', '47singapore.jpg', '48sunnyvale.jpg', '4istanbul.jpg', '50san diego.jpg', '52new york.jpg', '54dallas.jpg', '55kiev.jpg', '5bogota.jpg', '61edinbrugh.jpg', '64seattle.jpg', '66san jose.jpg', '68pune.jpg', '69chicago.jpg', '69shanghai.jpg', '72bangalore.jpg', '72bucharest.jpg', '73delhi.jpg', '74tel aviv.jpg', '83gainesville.jpg', '88jacksonville.jpg', '89berkeley.jpg', '90beijing.jpg', '93manchester.jpg', '96karachi.jpg', '97oakland.jpg', '9barcelona.jpg']\n",
      "['.DS_Store', 'athens.jpg', 'austin.jpg', 'bangalore.jpg', 'barcelona.jpg', 'beijing.jpg', 'berkeley.jpg', 'bogota.jpg', 'bristol.jpg', 'bucharest.jpg', 'buenos aires.jpg', 'cairo.jpg', 'chennai.jpg', 'chicago.jpg', 'colombo.jpg', 'dallas.jpg', 'delhi.jpg', 'edinbrugh.jpg', 'gainesville.jpg', 'houston.jpg', 'hyderabad.jpg', 'istanbul.jpg', 'ithaca.jpg', 'jacksonville.jpg', 'karachi.jpg', 'kiev.jpg', 'london.jpg', 'los angeles.jpg', 'madrid.jpg', 'manchester.jpg', 'miami.jpg', 'new york.jpg', 'oakland.jpg', 'pune.jpg', 'rochester.jpg', 'san diego.jpg', 'san jose.jpg', 'sao paulo.jpg', 'seattle.jpg', 'seoul.jpg', 'shanghai.jpg', 'singapore.jpg', 'sunnyvale.jpg', 'sydney.jpg', 'tel aviv.jpg']\n"
     ]
    }
   ],
   "source": [
    "import os\n",
    "import string\n",
    "\n",
    "def rename_files():\n",
    "    \n",
    "    # (1) get file names from a folder\n",
    "    file_list = os.listdir('/Users/brendonsmith/Dropbox/Computing/Udacity/fsnd/01_fundamentals/prank')\n",
    "    print(file_list)\n",
    "    \n",
    "    # (2) for each file, rename filename\n",
    "    ## select specific working directory\n",
    "    os.chdir('/Users/brendonsmith/Dropbox/Computing/Udacity/fsnd/01_fundamentals/prank')\n",
    "    ## construct a for loop to rename each file in the directory\n",
    "    for file_name in file_list:\n",
    "        ## construct translation table for the translate function\n",
    "        translation_table = str.maketrans('0123456789', '          ', '0123456789')\n",
    "        ## rename file with new name\n",
    "        os.rename(file_name, file_name.translate(translation_table))\n",
    "    \n",
    "rename_files()\n",
    "\n",
    "# verify file rename\n",
    "print(os.listdir('/Users/brendonsmith/Dropbox/Computing/Udacity/fsnd/01_fundamentals/prank'))"
   ]
  },
  {
   "cell_type": "markdown",
   "metadata": {},
   "source": [
    "**Success! Viewing the files in name order reveals the secret message: 'KEYS ARE IN THE CLOSET. BEHIND THE SHOEBOX.'**"
   ]
  },
  {
   "cell_type": "markdown",
   "metadata": {},
   "source": [
    "## 27. Quiz: Rename Troubles\n",
    "\n",
    "What would happen if:\n",
    "    a) we tried to rename a file that doesn't exist? -> code returns an error\n",
    "    b) we tried to rename a file to a name that already exists in the folder? -> code runs, but nothing is changed.\n",
    "    \n",
    "**Exceptions** tell Python what to do if it encounters an error.\n",
    "Resources section on exceptions:\n",
    "\n",
    "> In case you are curious, here is some information on [Exceptions](http://www.tutorialspoint.com/python/python_exceptions.htm). This is an advanced topic in object oriented programming. We will uncover several of these in Lesson 3b. We are still working on creating the best introduction to Exceptions. In the meantime, the link above should help you get started."
   ]
  },
  {
   "cell_type": "markdown",
   "metadata": {},
   "source": [
    "## 28. Where Does `os` Come From?\n",
    "\n",
    "`os` is a module in the Python standard library. This means that it's basically a .py file with code in it that runs when `os` is loaded by Python. I checked the source code out on [GitHub](https://github.com/python/cpython/tree/3.6/Lib/os.py).\n",
    "\n",
    "I noted the reference to POSIX in the comments at the top. What is POSIX? \n",
    "\n",
    "From [Wikipedia](https://en.wikipedia.org/wiki/POSIX):\n",
    "\n",
    "> The Portable Operating System Interface (POSIX)[1] is a family of standards specified by the IEEE Computer Society for maintaining compatibility between operating systems. POSIX defines the application programming interface (API), along with command line shells and utility interfaces, for software compatibility with variants of Unix and other operating systems.[2][3]\n",
    "> \n",
    "> Unix was selected as the basis for a standard system interface partly because it was \"manufacturer-neutral.\" However, several major versions of Unix existed—so there was a need to develop a common denominator system.\n",
    "\n"
   ]
  },
  {
   "cell_type": "markdown",
   "metadata": {},
   "source": [
    "## 29. Reading `os` Documentation\n",
    "\n",
    "Kunal just pointed us to the Python documentation, which I have already been reading."
   ]
  },
  {
   "cell_type": "markdown",
   "metadata": {},
   "source": [
    "## 30. Quiz: Secret Message Mini-Project\n",
    "\n",
    "Create your own secret message. \n",
    "\n",
    "**Goal: spell out HELLO WORLD**\n",
    "\n",
    "* Udacity provided a folder for download, 'alphabet,' containing one image for each letter of the alphabet in capital letters. Space and period were also provided.\n",
    "* [optional] write code to create a new directory\n",
    "* [optional] Copy files: need three 'L' (Chennai) and two 'O' (Dallas). \n",
    "* Put files in desired order, and save to new directory 'alphabet1' (manually in finder):\n",
    "    1.  Bristol\n",
    "    2.  Beijing\n",
    "    3.  Chennai\n",
    "    4.  Chennai\n",
    "    5.  Dallas\n",
    "    6.  Madrid\n",
    "    7.  Jacksonville\n",
    "    8.  Dallas\n",
    "    9.  Gainesville\n",
    "    10. Chennai\n",
    "    11. Barcelona\n",
    "* Rename files: instead of removing numbers and keeping the letters, I decided to add numbers to the file names, and then remove the letters.\n",
    "    * I found the `ascii_lowercase[]` call in the string package on [Stack Overflow](https://stackoverflow.com/questions/3190122/python-how-to-print-range-a-z), and used it to remove all letters. The second argument in the `str.maketrans()` function was just 26 empty spaces.\n",
    "* It worked! Unfortunately though, my strategy resulted in the removal of the file extension. I included a second `for` loop to add back jpg. \n",
    "* **Note that the print statements and inclusion of the file lists as variables can be helpful for instructional purposes, but aren't necessary.** Instead of creating a variable, the file list can be referenced directly with `os.listdir()`. Also see [Stack Overflow](https://stackoverflow.com/questions/16736080/change-the-file-extension-for-files-in-a-folder-in-python).\n"
   ]
  },
  {
   "cell_type": "markdown",
   "metadata": {},
   "source": [
    "```python\n",
    "# draft code\n",
    "# testing beginning of code with new folder\n",
    "alphabet1_list = os.listdir('/Users/brendonsmith/Dropbox/Computing/Udacity/fsnd/alphabet1')\n",
    "print(alphabet1_list)\n",
    "```"
   ]
  },
  {
   "cell_type": "markdown",
   "metadata": {},
   "source": [
    "## Secret message mini-project full code"
   ]
  },
  {
   "cell_type": "code",
   "execution_count": 2,
   "metadata": {
    "scrolled": true
   },
   "outputs": [
    {
     "name": "stdout",
     "output_type": "stream",
     "text": [
      "['.DS_Store', '0sdfasdtlgjgkrjfthekllkjldhtth6dsafgasdf.jpg', '1cdh0nddnai.jpg', 'adsasdjikjslfjkjdb0ei2jisdfsdf.jpg', 'asdfgggbrist0qwerty1.jpg', 'c0dfdfdlfkfirmckdkdjrjckdtdkfgugjldliou4endsafai.jpg', 'dfgsdfgch0fffn3nadf.jpg', 'dsajklfdioupjklsdfgkluy1jljkljkliouuio1asdfasd.jpg', 'eriouuiokljadsfjklsadf0kjdsajkdfsdfsa7kjadfsjklfds.jpg', 'hjdsajafdiouerwqioue0qr9wkjfadsjdfsanmxcvmnv.jpg', 'iitktftflfjfjfofas0dddfdfddd8ffffff.jpg', 'jkdsjklasdjkladgs0jfjfjfj5vfvfv.jpg']\n",
      "['.DS_S', '01.', '02.', '03.', '04.', '05.', '06.', '07.', '08.', '09.', '10.', '11.']\n",
      "['.DS_Sjpg', '01.jpg', '02.jpg', '03.jpg', '04.jpg', '05.jpg', '06.jpg', '07.jpg', '08.jpg', '09.jpg', '10.jpg', '11.jpg']\n"
     ]
    }
   ],
   "source": [
    "import os\n",
    "import string\n",
    "\n",
    "def rename_files():\n",
    "    \n",
    "    # (1) get file names from a folder\n",
    "    alphabet1_list = os.listdir('/Users/brendonsmith/Dropbox/Computing/Udacity/fsnd/01_fundamentals/alphabet1')\n",
    "    print(alphabet1_list)\n",
    "    \n",
    "    # (2) rename each file\n",
    "    ## select specific working directory\n",
    "    os.chdir('/Users/brendonsmith/Dropbox/Computing/Udacity/fsnd/01_fundamentals/alphabet1')\n",
    "    ## rename each file in the directory\n",
    "    for file_name in alphabet1_list:\n",
    "        ## construct translation table for the translate function\n",
    "        translation_table = str.maketrans(string.ascii_lowercase[:], '                          ', string.ascii_lowercase[:])\n",
    "        ## rename file\n",
    "        os.rename(file_name, file_name.translate(translation_table))\n",
    "        \n",
    "    ## add back the extension after deleting all the letters\n",
    "    alphabet1_list_new = os.listdir('/Users/brendonsmith/Dropbox/Computing/Udacity/fsnd/01_fundamentals/alphabet1')\n",
    "    print(alphabet1_list_new)\n",
    "    for file_name in alphabet1_list_new:\n",
    "        os.rename(file_name, file_name + 'jpg')\n",
    "        \n",
    "rename_files()\n",
    "\n",
    "# verify file rename\n",
    "print(os.listdir('/Users/brendonsmith/Dropbox/Computing/Udacity/fsnd/01_fundamentals/alphabet1'))"
   ]
  },
  {
   "cell_type": "markdown",
   "metadata": {},
   "source": [
    "<img src=\"https://www.dropbox.com/s/1w7jld7ns1dqwek/alphabet1_secret_message_mini_project.png?dl=1\">"
   ]
  },
  {
   "cell_type": "markdown",
   "metadata": {},
   "source": [
    "## 31. Edge Case\n",
    "\n",
    "So far, we have been creating functions, and then writing code line by line within the functions. We will continue to use this for our next programming challenge, creating a movie website."
   ]
  },
  {
   "cell_type": "markdown",
   "metadata": {
    "collapsed": true
   },
   "source": [
    "## 32. When Functions Do Not Suffice\n",
    "\n",
    "* Functions may not be adequate when operations get more complicated.\n",
    "* If we want to pull up information about a movie, we can't just manually type all the information into the Python function. Instead, we should define a template. We could copy the template for each movie, but what if we need to change it?\n",
    "* Instead of a function, we are going to use the `class` in Python to create the movie website."
   ]
  }
 ],
 "metadata": {
  "kernelspec": {
   "display_name": "Python 3",
   "language": "python",
   "name": "python3"
  },
  "language_info": {
   "codemirror_mode": {
    "name": "ipython",
    "version": 3
   },
   "file_extension": ".py",
   "mimetype": "text/x-python",
   "name": "python",
   "nbconvert_exporter": "python",
   "pygments_lexer": "ipython3",
   "version": "3.6.1"
  }
 },
 "nbformat": 4,
 "nbformat_minor": 2
}
