{
 "cells": [
  {
   "cell_type": "markdown",
   "metadata": {},
   "source": [
    "Udacity full-stack web developer nanodegree\n",
    "========================\n",
    "01. Programming fundamentals and the web\n",
    "========================\n",
    "\n",
    "---\n",
    "\n",
    "\n",
    "# Table of contents\n",
    "\n",
    "[TOC]\n",
    "\n",
    "---\n"
   ]
  },
  {
   "cell_type": "markdown",
   "metadata": {},
   "source": [
    "# methods\n",
    "\n",
    "## jupyter notebook\n",
    "\n",
    "* This nanodegree will use Python.\n",
    "* Jupyter allows both markdown and inline code chunks in the same notebook.\n",
    "* It is easier to write Markdown in Sublime, but jupyter is a better choice because of the coding functionality.\n",
    "* The ability to run individual cells is useful for both code and markdown. Rendering Markdown is quicker than knitting an entire document with Rstudio, or using Markdown Preview with Sublime.\n",
    "* Rstudio has some similar features, but jupyter has support for more coding languages.\n",
    "* Jupyter is also useful for research because of checkpoint/version control and collaboration features. It is a good idea to get used to jupyter so I can use it for collaborative, reproducible research in the future.\n",
    "\n",
    "* [Anaconda](https://docs.anaconda.com/anaconda/install/)\n",
    "    - jupyter notebook\n",
    "        + Launch from terminal with `jupyter notebook`.\n",
    "        + [jupyter-themes](https://github.com/dunovank/jupyter-themes)\n",
    "            * `pip install jupyterthemes`\n",
    "            * settings: `jt -t chesterish -f ubuntu -fs 14 -altp -tfs 16 -nf sourcesans -nfs 16 -ofs 12 -cellw 88% -T`\n",
    "            * shutdown jupyter notebook kernel, clear browser cache, restart browser, restart jupyter notebook\n",
    "        + [jupyter version control with nbdime](http://nbdime.readthedocs.io/en/latest/)\n",
    "            * terminal: `pip install nbdime` (may already be installed through anaconda. to check, enter `conda list` at the command line).\n",
    "            * `nbdime config-git --enable --global` (can also enable for individual repositories)\n",
    "            * Add [jupyter .gitignore](https://github.com/jupyter/notebook/blob/master/.gitignore) to directory (or to $HOME/.config/git/ignore for global configuration), to avoid recognizing notebook checkpoint files.\n",
    "\n",
    "\n",
    "# resources\n",
    "\n",
    "## Python\n",
    "\n",
    "[Python 3.6.2 documentation](https://docs.python.org/3/)\n",
    "\n",
    "[Python PEP8 style guide](https://www.python.org/dev/peps/pep-0008/)\n",
    "\n",
    "[Python PEP8 style checker](http://pep8online.com/)\n",
    "\n",
    "[Python Central](http://pythoncentral.io/)\n",
    "\n",
    "[Automate the Boring Stuff with Python](https://automatetheboringstuff.com/)\n",
    "\n",
    "[jupyter/iPython documentation](http://nbviewer.jupyter.org/github/ipython/ipython/blob/3.x/examples/Index.ipynb)\n",
    "\n",
    "\n",
    "I keep web links in the \"#computers programming\" tag of my [raindrop.io](https://raindrop.io) bookmarks.\n",
    "\n",
    "\n",
    "## Markdown\n",
    "\n",
    "[Markdown-Daring Fireball](http://daringfireball.net/projects/markdown/)\n",
    "\n",
    "[GitHub-Flavored Markdown (GFM) Basic writing and formatting syntax](https://help.github.com/articles/basic-writing-and-formatting-syntax/)\n",
    "\n",
    "[Beegit markdown cheat sheet](https://beegit.com/markdown-cheat-sheet)\n",
    "\n",
    "\n",
    "---"
   ]
  },
  {
   "cell_type": "markdown",
   "metadata": {},
   "source": [
    "# Lesson 01: welcome\n",
    "\n",
    "## 01. intro\n",
    "\n",
    "Mike Wales, curriculum manager\n",
    "\n",
    "Miriam Swords Kalk, nanodegree student experience\n",
    "\n",
    "## 02. Readiness assessment\n",
    "\n",
    "*When the going gets tough, what motivates you?*\n",
    "    *Online learning is a journey and we're here to help. Tell us more about how you stay motivated to work through challenges.*\n",
    "\n",
    "> **Personal improvement. Growth keeps me going.**\n",
    "> \n",
    "> **Long-term goals. I want to improve science with new technology tools. I need to develop the skills to make this happen.**\n",
    "\n",
    "-> *I have written about this before, but should consolidate my writings on motivation. See Life as a scientist.docx about remembering your purpose etc.*\n",
    "\n",
    "**The readiness assessment suggested the intro to programming nanodegree, but I will keep going. I have an advanced educational background, experience, and I don't have time to complete both the intro to programming and full-stack web developer nanodegrees before I get a job. If I get stuck, I will go through a period of intense focused learning until I have the necessary competency. I will also complement my Udacity training with in-person events whenever possible.**\n",
    "\n",
    "Feedback to Udacity: \n",
    "\n",
    ">Thank you for this introduction, and for offering the readiness assessment! I appreciate your thoughtfulness and consideration.\n",
    "\n",
    "\n",
    "---\n"
   ]
  },
  {
   "cell_type": "markdown",
   "metadata": {},
   "source": [
    "# Lesson 02: career services available to you\n",
    "\n",
    "## 01. meet the careers team\n",
    "\n",
    "This will be very helpful. I can refine my resume and search for jobs while completing my degree.\n",
    "\n",
    "## 02. your udacity profile\n",
    "\n",
    "I have updated my profile with current information.\n",
    "\n",
    "\n",
    "---"
   ]
  },
  {
   "cell_type": "markdown",
   "metadata": {},
   "source": [
    "# Lesson 03: nanodegree orientation\n",
    "\n",
    "## 01. welcome to orientation\n",
    "\n",
    "## 02. projects and progress\n",
    "\n",
    "* Udacity focuses on learning by doing.\n",
    "* The program is built around projects. Reviewing all the course material isn't a requirement for graduation. \n",
    "    \n",
    "## 03. connecting with your community\n",
    "\n",
    "* I joined the Slack channel.\n",
    "* Hi everyone! I'm Brendon Smith. I have a PhD in nutrition and have been a postdoc researcher and lab manager at Harvard for two years now. I want to build new technology tools to make science more efficient and reproducible. I have experience with R, Python, Git, and front-end web development. Some of my friends at MIT told me about Udacity. I'm looking forward to learning here with all of you! \n",
    "\n",
    "## 04. support\n",
    "\n",
    "## 05. project submission\n",
    "\n",
    "## 06. integrity and mindset\n",
    "\n",
    "The Honor Code:\n",
    "\n",
    ">*I hereby confirm that all my project submissions consist of my own work. Accordingly, I will document and cite the origins of any part(s) of my project submissions that were taken from websites, books, forums, GitHub repositories, or any other source and explain why I used them for any part of my submission. I understand that I may be asked to explain my work in a video call with a Udacity Mentor before my Nanodegree graduation is conferred.*\n",
    "\n",
    "## 07. finding time to study\n",
    "\n",
    "* They recommend ≥10 hrs / week in ≥2 blocks. I set it aside, though I will basically be working full-time right now.\n",
    "\n",
    "## 08. final tips\n",
    "\n",
    "* \"Be relentless in searching for an answer on your own.\"\n",
    "* Be an active member of your community. Help other students.\n",
    "    \n",
    "    ---"
   ]
  },
  {
   "cell_type": "markdown",
   "metadata": {},
   "source": [
    "# Lesson 04: Introductions\n",
    "\n",
    "## 01. What will we create?\n",
    "    \n",
    "Kunal, Udacity instructor\n",
    "\n",
    "1. project take a break\n",
    "\n",
    "2. project profanity editor\n",
    "\n",
    "3. project movie database\n",
    "\n",
    "*I stopped here for a bit to review basic python and drill loops and if statements. See [Appendix](#appendix) below for some examples.*\n",
    "\n",
    "## 02. Quiz: comfort level\n",
    "\n",
    "* Kunal said that in his computer science classes, students often started out interested, but became frustrated after the difficulty level skyrocketed.\n",
    "* I chose 3, somewhat comfortable, with writing computer programs.\n",
    "    \n",
    "## 03. What should I know?\n",
    "\n",
    "*(viewed source HTML on the website, copied here. Remember [Markdown can interpret HTML](https://daringfireball.net/projects/markdown/syntax#html)).*\n",
    "\n",
    "<div class=\"ltr\"><div class=\"ureact-markdown--markdown--3IhZa ureact-markdown \"><p>Need to brush up? Check out these helpful tutorials below:</p>\n",
    "<h3 id=\"if-statements\">If Statements</h3>\n",
    "<ol>\n",
    "<li><a target=\"_blank\" href=\"http://www.tutorialspoint.com/python/python_if_else.htm\">Tutorialspoint: If-Else Blocks</a></li>\n",
    "<li><a target=\"_blank\" href=\"https://classroom.udacity.com/courses/cs101/lessons/48753036/concepts/487343560923\">CS 101: If Statements</a></li>\n",
    "</ol>\n",
    "<h3 id=\"while-loops\">While Loops</h3>\n",
    "<ol>\n",
    "<li><a target=\"_blank\" href=\"http://www.tutorialspoint.com/python/python_while_loop.htm\">Tutorialspoint: Loops</a></li>\n",
    "<li><a target=\"_blank\" href=\"https://www.udacity.com/course/viewer#!/c-cs101/l-48753036/e-48686708/m-48480488\">CS 101: While Loops</a></li>\n",
    "</ol>\n",
    "<h3 id=\"functions\">Functions</h3>\n",
    "<ol>\n",
    "<li><a target=\"_blank\" href=\"http://anh.cs.luc.edu/python/hands-on/3.1/handsonHtml/functions.html\">Loyola University: Defining Functions</a></li>\n",
    "<li><a target=\"_blank\" href=\"https://classroom.udacity.com/courses/cs101/lessons/48753036/concepts/487134840923\">CS 101: Functions</a></li>\n",
    "</ol>\n",
    "</div></div><p class=\"ltr _notes-wide--forums-message--2LZQb\"><!-- react-text: 1610 -->Have questions?<!-- /react-text --><!-- react-text: 1611 --> <!-- /react-text --><!-- react-text: 1612 -->Head to the<!-- /react-text --><!-- react-text: 1613 -->&nbsp;<!-- /react-text --><a target=\"_blank\" href=\"https://forums.udacity.com?forum_path=c/nd004-full-stack-broadcast\">forums</a><!-- react-text: 1615 -->&nbsp;<!-- /react-text --><!-- react-text: 1616 -->for discussion with the Udacity Community.<!-- /react-text --></p></div>"
   ]
  },
  {
   "cell_type": "markdown",
   "metadata": {},
   "source": [
    "## 04. Quiz: test for loops\n",
    "\n",
    "They had a dance video shaking shoulders to the left and right three times.\n",
    "\n",
    "**I didn't really agree with the answer, so I re-coded it myself:**"
   ]
  },
  {
   "cell_type": "code",
   "execution_count": 1,
   "metadata": {},
   "outputs": [
    {
     "name": "stdout",
     "output_type": "stream",
     "text": [
      "shake shoulders to the left\n",
      "shake shoulders to the right\n",
      "shake shoulders to the left\n",
      "shake shoulders to the right\n",
      "shake shoulders to the left\n",
      "shake shoulders to the right\n",
      "Strike a pose.\n"
     ]
    }
   ],
   "source": [
    "# I would actually code it like this:\n",
    "\n",
    "num_1 = 1\n",
    "\n",
    "while(num_1 <= 3):\n",
    "    print('shake shoulders to the left')\n",
    "    print('shake shoulders to the right')\n",
    "    # omission of the line below may result in an infinite loop.\n",
    "    num_1 = num_1 + 1 \n",
    "print('Strike a pose.')"
   ]
  },
  {
   "cell_type": "markdown",
   "metadata": {},
   "source": [
    "## 05. Quiz: Test for If Statements\n",
    "\n",
    "I drilled if-else statements for a while (see conditionals section below). I understood this immediately! Very happy with my syntax progress."
   ]
  },
  {
   "cell_type": "code",
   "execution_count": 77,
   "metadata": {},
   "outputs": [
    {
     "name": "stdout",
     "output_type": "stream",
     "text": [
      "Turn left\n"
     ]
    }
   ],
   "source": [
    "def determine_direction(message):\n",
    "    if message == 'TAKE THE ROAD LESS TRAVELLED':\n",
    "        print('Turn left')\n",
    "    elif message == 'COMFORT IS DIVINE':\n",
    "        print('Turn right')\n",
    "    else:\n",
    "        print('Stop here')\n",
    "        \n",
    "determine_direction('TAKE THE ROAD LESS TRAVELLED')"
   ]
  },
  {
   "cell_type": "markdown",
   "metadata": {},
   "source": [
    "## 06. What Will We Learn?\n",
    "\n",
    "Somewhat familiar ideas: lesson 0 and 1\n",
    "\n",
    "* Functions like `print('Hello, World!')`\n",
    "\n",
    "New ideas: lesson 2 and 3\n",
    "\n",
    "* Classes\n",
    "* Object-oriented programming"
   ]
  },
  {
   "cell_type": "markdown",
   "metadata": {},
   "source": [
    "---\n",
    "\n",
    "# Appendix"
   ]
  },
  {
   "cell_type": "markdown",
   "metadata": {},
   "source": [
    "## What should I know?"
   ]
  },
  {
   "cell_type": "markdown",
   "metadata": {},
   "source": [
    "### User input\n",
    "I worked on this later, out of interest."
   ]
  },
  {
   "cell_type": "code",
   "execution_count": 2,
   "metadata": {},
   "outputs": [
    {
     "name": "stdout",
     "output_type": "stream",
     "text": [
      "Please type your name: br3ndonland\n",
      "Yo yo yo br3ndonland! My new album just dropped!\n"
     ]
    }
   ],
   "source": [
    "name = input(\"Please type your name: \")\n",
    "print('Yo yo yo', name + '!', 'My new album just dropped!')"
   ]
  },
  {
   "cell_type": "markdown",
   "metadata": {},
   "source": [
    "### Loops"
   ]
  },
  {
   "cell_type": "code",
   "execution_count": 78,
   "metadata": {},
   "outputs": [
    {
     "name": "stdout",
     "output_type": "stream",
     "text": [
      "H\n",
      "A\n",
      "P\n",
      "P\n",
      "Y\n",
      " \n",
      "B\n",
      "I\n",
      "R\n",
      "T\n",
      "H\n",
      "D\n",
      "A\n",
      "Y\n",
      "!\n"
     ]
    }
   ],
   "source": [
    "# looping examples\n",
    "## simple example from GA_python101\n",
    "### this example prints each letter of the reference string `phrase` in turn, as uppercase\n",
    "\n",
    "phrase = 'Happy Birthday!' # establish a reference\n",
    "\n",
    "for letter in phrase: # perform the following for each letter in the phrase\n",
    "    print(letter.upper()) # print the letter as uppercase"
   ]
  },
  {
   "cell_type": "code",
   "execution_count": 79,
   "metadata": {
    "scrolled": true
   },
   "outputs": [
    {
     "name": "stdout",
     "output_type": "stream",
     "text": [
      "1\n",
      "2\n",
      "3\n",
      "4\n",
      "5\n",
      "6\n",
      "7\n",
      "8\n",
      "9\n",
      "10\n",
      "11\n",
      "12\n",
      "13\n",
      "14\n",
      "15\n"
     ]
    }
   ],
   "source": [
    "integers_2 = range(1, 16)\n",
    "\n",
    "for x in integers_2:\n",
    "    print(x)"
   ]
  },
  {
   "cell_type": "code",
   "execution_count": 80,
   "metadata": {
    "scrolled": true
   },
   "outputs": [
    {
     "name": "stdout",
     "output_type": "stream",
     "text": [
      "['red', 'green', 'blue', 'yellow', 'white', 'black', 'pink']\n",
      "color is red\n",
      "color is green\n",
      "color is blue\n",
      "color is yellow\n",
      "color is white\n",
      "color is black\n",
      "color is pink\n"
     ]
    }
   ],
   "source": [
    "# looping examples\n",
    "## example from Harvard Computefest Intro to Python 2017 python-cf17-02-language.ipynb\n",
    "\n",
    "colors = 'red green blue yellow white black pink'.split()\n",
    "print(colors)\n",
    "for c in colors:\n",
    "    print('color is', c)"
   ]
  },
  {
   "cell_type": "markdown",
   "metadata": {},
   "source": [
    "A while loop statement in Python programming language repeatedly executes a target statement as long as a given condition is true."
   ]
  },
  {
   "cell_type": "code",
   "execution_count": 81,
   "metadata": {},
   "outputs": [
    {
     "name": "stdout",
     "output_type": "stream",
     "text": [
      "shake shoulders to the left\n",
      "shake shoulders to the right\n",
      "shake shoulders to the left\n",
      "shake shoulders to the right\n",
      "shake shoulders to the left\n",
      "shake shoulders to the right\n",
      "Strike a pose.\n"
     ]
    }
   ],
   "source": [
    "num_1 = 1\n",
    "\n",
    "while(num_1 <= 3):\n",
    "    print('shake shoulders to the left')\n",
    "    print('shake shoulders to the right')\n",
    "    num_1 = num_1 + 1 # omission of this line may result in an infinite loop.\n",
    "else:\n",
    "    print('Strike a pose.')"
   ]
  },
  {
   "cell_type": "markdown",
   "metadata": {},
   "source": [
    "**To stop an infinite loop in jupyter, press `Esc` to enter command mode, and then `i,i` to interrupt the kernel.**"
   ]
  },
  {
   "cell_type": "markdown",
   "metadata": {},
   "source": [
    "### Conditionals"
   ]
  },
  {
   "cell_type": "code",
   "execution_count": 82,
   "metadata": {},
   "outputs": [
    {
     "name": "stdout",
     "output_type": "stream",
     "text": [
      "they are equal\n"
     ]
    }
   ],
   "source": [
    "# Conditionals (if statements)\n",
    "\n",
    "## simple example from GA_python101\n",
    "\n",
    "secret = 55\n",
    "value = 55\n",
    "\n",
    "if secret == value:\n",
    "    print('they are equal')\n",
    "else:\n",
    "    print('they are not equal')"
   ]
  },
  {
   "cell_type": "code",
   "execution_count": 83,
   "metadata": {},
   "outputs": [
    {
     "name": "stdout",
     "output_type": "stream",
     "text": [
      "Finally! This number is fifteen!\n"
     ]
    }
   ],
   "source": [
    "## more complicated example\n",
    "###\n",
    "### not sure how to do this with a range, like:\n",
    "### integers = [1, 2, 3, 4, 5, 6, 7, 8, 9, 10, 11, 12, 13, 14, 15]\n",
    "### integers = range(1, 15)\n",
    "integer = 15\n",
    "\n",
    "if integer == 1:\n",
    "    print('this number is one')\n",
    "elif integer == 10:\n",
    "    print('this number is ten')\n",
    "elif integer == 15:\n",
    "    print('Finally! This number is fifteen!')\n",
    "else:\n",
    "    print('End of line.')"
   ]
  },
  {
   "cell_type": "markdown",
   "metadata": {},
   "source": [
    "### Functions"
   ]
  },
  {
   "cell_type": "code",
   "execution_count": 84,
   "metadata": {},
   "outputs": [
    {
     "data": {
      "text/plain": [
       "5040"
      ]
     },
     "execution_count": 84,
     "metadata": {},
     "output_type": "execute_result"
    }
   ],
   "source": [
    "# Functions\n",
    "## factorial example from [repl.it](https://repl.it)\n",
    "### try running it with 0 and 7 as the inputs in the last line.\n",
    "\n",
    "def factorial(n):\n",
    "  if n == 0:\n",
    "    return 1\n",
    "  else:\n",
    "    return n * factorial(n - 1)\n",
    "factorial(7)"
   ]
  },
  {
   "cell_type": "code",
   "execution_count": 1,
   "metadata": {},
   "outputs": [
    {
     "name": "stdout",
     "output_type": "stream",
     "text": [
      "Yo br3ndonland\n"
     ]
    },
    {
     "data": {
      "text/plain": [
       "(44, 106.5329983228432)"
      ]
     },
     "execution_count": 1,
     "metadata": {},
     "output_type": "execute_result"
    }
   ],
   "source": [
    "# Functions\n",
    "## example from Harvard Computefest Intro to Python 2017 \n",
    "## python-cf17-02-language.ipynb\n",
    "\n",
    "def say_hi(me):\n",
    "    print('Yo ' + me)\n",
    "\n",
    "me = 'br3ndonland'\n",
    "say_hi(me)\n",
    "\n",
    "def f(x):\n",
    "    ' A function f of x that calculates a second order function for y and also z'\n",
    "    y = 3*x + 2*x**2\n",
    "    z = 5*x**2 + 4*y**(0.5)\n",
    "    return y, z # tuple packing\n",
    "\n",
    "f(4)"
   ]
  },
  {
   "cell_type": "code",
   "execution_count": 86,
   "metadata": {},
   "outputs": [
    {
     "name": "stdout",
     "output_type": "stream",
     "text": [
      "given numlist: [1, -594, 90, 45, 7, 3, 59, 9087, 4, 2]\n",
      "Got a mean of 870.4\n"
     ]
    },
    {
     "data": {
      "text/plain": [
       "870.4"
      ]
     },
     "execution_count": 86,
     "metadata": {},
     "output_type": "execute_result"
    }
   ],
   "source": [
    "# Functions\n",
    "## example from Harvard Computefest Intro to Python 2017 \n",
    "## python-cf17-02-language.ipynb\n",
    "## Function exercise\n",
    "## * Create a list of 10 numbers, your choice.\n",
    "## * Use a `for` loop to iterate over it.\n",
    "## * Think about what you'd need to do to calculate the average\n",
    "## * Remember the `len()` function.\n",
    "\n",
    "number_list = [1, -594, 90, 45, 7, 3, 59, 9087, 4, 2]\n",
    "\n",
    "def myaverage(numlist):\n",
    "    'calculate the mean from an iterable of numbers'\n",
    "    print('given numlist:', numlist)\n",
    "    total = 0\n",
    "    for x in numlist:\n",
    "        total += x\n",
    "    mean = total / float(len(numlist))\n",
    "    print(\"Got a mean of\", mean)\n",
    "    return mean\n",
    "average = myaverage(number_list)\n",
    "average"
   ]
  },
  {
   "cell_type": "code",
   "execution_count": 87,
   "metadata": {},
   "outputs": [
    {
     "data": {
      "text/plain": [
       "870.4"
      ]
     },
     "execution_count": 87,
     "metadata": {},
     "output_type": "execute_result"
    }
   ],
   "source": [
    "# Functions\n",
    "## that was a very time-consuming way of calculating an average.\n",
    "## (in human time, not computer time)\n",
    "## how about this\n",
    "import statistics\n",
    "statistics.mean(number_list)"
   ]
  },
  {
   "cell_type": "code",
   "execution_count": 88,
   "metadata": {},
   "outputs": [
    {
     "data": {
      "text/plain": [
       "870.39999999999998"
      ]
     },
     "execution_count": 88,
     "metadata": {},
     "output_type": "execute_result"
    }
   ],
   "source": [
    "# Functions\n",
    "## numpy is also faster for humans, but imports a larger package\n",
    "## so may take longer for the computer:\n",
    "import numpy\n",
    "numpy.mean(number_list)"
   ]
  }
 ],
 "metadata": {
  "kernelspec": {
   "display_name": "Python 3",
   "language": "python",
   "name": "python3"
  },
  "language_info": {
   "codemirror_mode": {
    "name": "ipython",
    "version": 3
   },
   "file_extension": ".py",
   "mimetype": "text/x-python",
   "name": "python",
   "nbconvert_exporter": "python",
   "pygments_lexer": "ipython3",
   "version": "3.6.1"
  }
 },
 "nbformat": 4,
 "nbformat_minor": 2
}
