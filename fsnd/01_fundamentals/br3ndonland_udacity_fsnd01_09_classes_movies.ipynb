{
 "cells": [
  {
   "cell_type": "markdown",
   "metadata": {},
   "source": [
    "Udacity full-stack web developer nanodegree\n",
    "========================\n",
    "\n",
    "01. Programming fundamentals and the web\n",
    "========================\n",
    "\n",
    "Lesson 09: Make classes: movie website\n",
    "========================\n",
    "\n",
    "---\n",
    "\n",
    "\n",
    "# Table of contents\n",
    "\n",
    "[TOC]\n",
    "\n",
    "---\n"
   ]
  },
  {
   "cell_type": "markdown",
   "metadata": {},
   "source": [
    "## 01. Course Map\n",
    "\n",
    "We started off learning to build functions, but they weren't adequate for making a movie website. We then used classes for three different projects, turtles, text messages, and profanity ~~editor~~ checker. Now, we will create classes in the movie website project. We will create a website that displays our favorite movies, and then when the movie thumbnail is clicked on, the trailer comes up from YouTube.\n",
    "\n",
    "## 02.  Quiz: What Should Class Movie Remember?\n",
    "\n",
    "As we have learned, classes are like blueprints, and objects are like specific instances of the blueprint.\n",
    "\n",
    "It took me several tries to get the quiz correct, because the question wasn't clear. The question was *Which of the following data points should the `class` Movie remember?* I went with the bare minimum, but I think they were basically looking for, *which of the following data points relate to movies?*\n",
    "\n",
    "```python\n",
    "# things to remember\n",
    "title\n",
    "storyline\n",
    "reviews\n",
    "poster_image\n",
    "youtube_trailer\n",
    "# things to do\n",
    "show_trailer()\n",
    "```\n",
    "\n",
    "I can already see how we're going to build this. We will create a function for each feature, and group the functions together into `class Movie`."
   ]
  },
  {
   "cell_type": "markdown",
   "metadata": {},
   "source": [
    "## 03. Defining Class Movie\n",
    "\n",
    "* **It is good practice to define a class in one file, and reference it in a separate file.** \n",
    "* **Class names should be written in CapWords.** See [PEP8 naming conventions](https://www.python.org/dev/peps/pep-0008/#prescriptive-naming-conventions) and Google Style Guide for Python.\n",
    "\n",
    "*entertainment_center.py* will reference the class created in *media.py*. \n",
    "\n",
    "*media.py*\n",
    "```python\n",
    "class Movie():\n",
    "```\n",
    "*entertainment_center.py*\n",
    "```python\n",
    "# import the media file, which contains the class definition\n",
    "import media\n",
    "# create an object, or specific instance, of the class Movie\n",
    "toy_story = media.Movie()\n",
    "```"
   ]
  }
 ],
 "metadata": {
  "kernelspec": {
   "display_name": "Python 3",
   "language": "python",
   "name": "python3"
  },
  "language_info": {
   "codemirror_mode": {
    "name": "ipython",
    "version": 3
   },
   "file_extension": ".py",
   "mimetype": "text/x-python",
   "name": "python",
   "nbconvert_exporter": "python",
   "pygments_lexer": "ipython3",
   "version": "3.6.1"
  }
 },
 "nbformat": 4,
 "nbformat_minor": 2
}
